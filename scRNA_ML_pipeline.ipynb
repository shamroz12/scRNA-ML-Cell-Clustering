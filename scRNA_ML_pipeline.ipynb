# Install dependencies
!pip install --quiet scanpy matplotlib seaborn python-igraph leidenalg

import scanpy as sc
import pandas as pd
import matplotlib.pyplot as plt
import pathlib
import zipfile

# Paths
ROOT = pathlib.Path('/content/scRNA-ML-CellClustering')
RESULTS = ROOT / 'results'
RESULTS.mkdir(parents=True, exist_ok=True)

# Load PBMC 3k dataset using Scanpy
adata = sc.datasets.pbmc3k()

# Preprocessing
sc.pp.filter_cells(adata, min_genes=200)
sc.pp.filter_genes(adata, min_cells=3)
sc.pp.normalize_total(adata, target_sum=1e4)
sc.pp.log1p(adata)
sc.pp.highly_variable_genes(adata, n_top_genes=2000, subset=True)
sc.pp.scale(adata)

# PCA and UMAP
sc.tl.pca(adata, svd_solver='arpack')
sc.pp.neighbors(adata, n_neighbors=10, n_pcs=40)
sc.tl.umap(adata)

# Clustering
sc.tl.leiden(adata, resolution=0.5)
adata.obs['leiden'].to_csv(RESULTS / 'cluster_assignments.csv')

# Plot UMAP colored by cluster
sc.pl.umap(adata, color='leiden', show=False)
plt.savefig(RESULTS / 'umap_clusters.png', dpi=300)
plt.close()

# Plot top 5 highly variable genes
top_genes = adata.var['highly_variable'].index[:5]
for gene in top_genes:
    sc.pl.umap(adata, color=gene, show=False)
    plt.savefig(RESULTS / f'umap_{gene}.png', dpi=300)
    plt.close()

# Zip results
zipf = ROOT / 'scRNA_ML_results.zip'
with zipfile.ZipFile(zipf, 'w', zipfile.ZIP_DEFLATED) as zf:
    for file in RESULTS.glob('*'):
        zf.write(file, arcname=file.name)

print('Results zipped at:', zipf)
