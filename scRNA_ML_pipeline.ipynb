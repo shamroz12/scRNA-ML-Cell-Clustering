{
  "cells": [
    {
      "cell_type": "markdown",
      "metadata": {},
      "source": [
        "# scRNA-ML Pipeline\n",
        "Clustering PBMC 3k single-cell RNA-seq data with ML and visualization."
      ]
    },
    {
      "cell_type": "code",
      "metadata": {},
      "source": [
        "# Install dependencies if not already installed\n!pip install scanpy pandas numpy matplotlib seaborn scikit-learn h5py"
      ]
    },
    {
      "cell_type": "code",
      "metadata": {},
      "source": [
        "import scanpy as sc\nimport pandas as pd\nimport matplotlib.pyplot as plt\nimport seaborn as sns\n\n# Load data\nadata = sc.read_10x_h5('../data/pbmc_3k_filtered_feature_bc_matrix.h5')\n\n# Preprocessing\nsc.pp.filter_cells(adata, min_genes=200)\nsc.pp.filter_genes(adata, min_cells=3)\nsc.pp.normalize_total(adata, target_sum=1e4)\nsc.pp.log1p(adata)\nsc.pp.highly_variable_genes(adata, n_top_genes=2000, subset=True)\n\n# PCA\nsc.tl.pca(adata, svd_solver='arpack')\n\n# Compute neighborhood graph\nsc.pp.neighbors(adata, n_neighbors=10, n_pcs=40)\n\n# UMAP\nsc.tl.umap(adata)\n\n# Clustering\nsc.tl.leiden(adata, resolution=0.5)\n\n# Plot UMAP colored by clusters\nsc.pl.umap(adata, color='leiden', save='_clusters.png')\n\n# Save results\nadata.obs.to_csv('../results/cell_clusters.csv')"
      ]
    }
  ],
  "metadata": {
    "kernelspec": {
      "name": "python3",
      "display_name": "Python 3"
    },
    "language_info": {
      "name": "python"
    }
  },
  "nbformat": 4,
  "nbformat_minor": 5
}